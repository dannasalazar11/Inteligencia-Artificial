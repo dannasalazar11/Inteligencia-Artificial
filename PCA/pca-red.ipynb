{
 "cells": [
  {
   "cell_type": "markdown",
   "id": "a9d75ba2",
   "metadata": {
    "papermill": {
     "duration": 0.005913,
     "end_time": "2024-02-27T14:35:04.381343",
     "exception": false,
     "start_time": "2024-02-27T14:35:04.375430",
     "status": "completed"
    },
    "tags": []
   },
   "source": [
    "1. Create a neural network that performs dimensionality reduction using PCA and then reconstructs the input data, considering that\n",
    "\n",
    "$X\\in \\mathbb{R}^{N\\times P}$ and the network $\\hat{X}=(f_1 \\circ f_0)(X)$ must satisfy that it has weights $W_0$ and $W_1$ in the first and second layers respectively, and it must satisfy that $W_0=W_1^T$."
   ]
  },
  {
   "cell_type": "code",
   "execution_count": 1,
   "id": "8cf60d04",
   "metadata": {
    "execution": {
     "iopub.execute_input": "2024-02-27T14:35:04.394840Z",
     "iopub.status.busy": "2024-02-27T14:35:04.394362Z",
     "iopub.status.idle": "2024-02-27T14:35:22.361276Z",
     "shell.execute_reply": "2024-02-27T14:35:22.360182Z"
    },
    "papermill": {
     "duration": 17.976981,
     "end_time": "2024-02-27T14:35:22.364306",
     "exception": false,
     "start_time": "2024-02-27T14:35:04.387325",
     "status": "completed"
    },
    "tags": []
   },
   "outputs": [
    {
     "name": "stderr",
     "output_type": "stream",
     "text": [
      "2024-02-27 14:35:08.236855: E external/local_xla/xla/stream_executor/cuda/cuda_dnn.cc:9261] Unable to register cuDNN factory: Attempting to register factory for plugin cuDNN when one has already been registered\n",
      "2024-02-27 14:35:08.236991: E external/local_xla/xla/stream_executor/cuda/cuda_fft.cc:607] Unable to register cuFFT factory: Attempting to register factory for plugin cuFFT when one has already been registered\n",
      "2024-02-27 14:35:08.412199: E external/local_xla/xla/stream_executor/cuda/cuda_blas.cc:1515] Unable to register cuBLAS factory: Attempting to register factory for plugin cuBLAS when one has already been registered\n"
     ]
    }
   ],
   "source": [
    "from matplotlib import pyplot as plt\n",
    "import numpy as np\n",
    "from sklearn.metrics import mean_squared_error\n",
    "from sklearn.model_selection import train_test_split\n",
    "import tensorflow as tf\n",
    "from tensorflow.keras import layers, losses, Model\n",
    "from tensorflow.keras import backend as K\n",
    "from tensorflow.keras.datasets import mnist\n",
    "from tensorflow.keras.layers import Dense, Input"
   ]
  },
  {
   "cell_type": "markdown",
   "id": "b9afb322",
   "metadata": {
    "papermill": {
     "duration": 0.005004,
     "end_time": "2024-02-27T14:35:22.374806",
     "exception": false,
     "start_time": "2024-02-27T14:35:22.369802",
     "status": "completed"
    },
    "tags": []
   },
   "source": [
    "For this exercise, I am going to use the MNIST dataset."
   ]
  },
  {
   "cell_type": "code",
   "execution_count": 2,
   "id": "c9faac6a",
   "metadata": {
    "execution": {
     "iopub.execute_input": "2024-02-27T14:35:22.387684Z",
     "iopub.status.busy": "2024-02-27T14:35:22.386466Z",
     "iopub.status.idle": "2024-02-27T14:35:24.866309Z",
     "shell.execute_reply": "2024-02-27T14:35:24.865025Z"
    },
    "papermill": {
     "duration": 2.489211,
     "end_time": "2024-02-27T14:35:24.869268",
     "exception": false,
     "start_time": "2024-02-27T14:35:22.380057",
     "status": "completed"
    },
    "tags": []
   },
   "outputs": [
    {
     "name": "stdout",
     "output_type": "stream",
     "text": [
      "Downloading data from https://storage.googleapis.com/tensorflow/tf-keras-datasets/mnist.npz\n",
      "11490434/11490434 [==============================] - 0s 0us/step\n"
     ]
    }
   ],
   "source": [
    "# Load and prepare the MNIST dataset\n",
    "(x_train, y_train), (x_test, y_test) = mnist.load_data()\n",
    "scale = 0.4\n",
    "x_train = x_train.astype('float32') / 255. + np.random.normal(scale=scale,size=x_train.shape)\n",
    "x_test = x_test.astype('float32') / 255. + np.random.normal(scale=scale,size=x_test.shape)"
   ]
  },
  {
   "cell_type": "code",
   "execution_count": 3,
   "id": "5ce9d1b0",
   "metadata": {
    "execution": {
     "iopub.execute_input": "2024-02-27T14:35:24.893662Z",
     "iopub.status.busy": "2024-02-27T14:35:24.892878Z",
     "iopub.status.idle": "2024-02-27T14:35:24.901568Z",
     "shell.execute_reply": "2024-02-27T14:35:24.900399Z"
    },
    "papermill": {
     "duration": 0.019645,
     "end_time": "2024-02-27T14:35:24.903974",
     "exception": false,
     "start_time": "2024-02-27T14:35:24.884329",
     "status": "completed"
    },
    "tags": []
   },
   "outputs": [],
   "source": [
    "x_train = x_train.reshape((x_train.shape[0], 28*28))\n",
    "x_test = x_test.reshape((x_test.shape[0], 28*28))\n",
    "\n",
    "x_val = x_train[50000:]\n",
    "y_val = y_train[50000:]\n",
    "x_train = x_train[:50000]\n",
    "y_train = y_train[:50000]"
   ]
  },
  {
   "cell_type": "markdown",
   "id": "e4d1d6e3",
   "metadata": {
    "papermill": {
     "duration": 0.005323,
     "end_time": "2024-02-27T14:35:24.915089",
     "exception": false,
     "start_time": "2024-02-27T14:35:24.909766",
     "status": "completed"
    },
    "tags": []
   },
   "source": [
    "To impose the restriction that $W_1 = W_0^T$, I propose creating a new class to customize the second layer of my neural network."
   ]
  },
  {
   "cell_type": "code",
   "execution_count": 4,
   "id": "4fd39f00",
   "metadata": {
    "execution": {
     "iopub.execute_input": "2024-02-27T14:35:24.928051Z",
     "iopub.status.busy": "2024-02-27T14:35:24.927644Z",
     "iopub.status.idle": "2024-02-27T14:35:24.934648Z",
     "shell.execute_reply": "2024-02-27T14:35:24.933812Z"
    },
    "papermill": {
     "duration": 0.01636,
     "end_time": "2024-02-27T14:35:24.937009",
     "exception": false,
     "start_time": "2024-02-27T14:35:24.920649",
     "status": "completed"
    },
    "tags": []
   },
   "outputs": [],
   "source": [
    "class DenseTranspose(tf.keras.layers.Layer):\n",
    "    def __init__(self, dense, activation=None, **kwargs):\n",
    "        self.dense = dense\n",
    "        self.activation = tf.keras.activations.get(activation)\n",
    "        super().__init__(**kwargs)\n",
    "\n",
    "    def call(self, inputs):\n",
    "        z = tf.matmul(inputs, self.dense.weights[0], transpose_b=True)\n",
    "        return self.activation(z)"
   ]
  },
  {
   "cell_type": "code",
   "execution_count": 5,
   "id": "8ffb8539",
   "metadata": {
    "execution": {
     "iopub.execute_input": "2024-02-27T14:35:24.950466Z",
     "iopub.status.busy": "2024-02-27T14:35:24.950076Z",
     "iopub.status.idle": "2024-02-27T14:35:25.108849Z",
     "shell.execute_reply": "2024-02-27T14:35:25.107536Z"
    },
    "papermill": {
     "duration": 0.169005,
     "end_time": "2024-02-27T14:35:25.111786",
     "exception": false,
     "start_time": "2024-02-27T14:35:24.942781",
     "status": "completed"
    },
    "tags": []
   },
   "outputs": [],
   "source": [
    "input_dim = 784  # MNIST\n",
    "encoding_dim = 46  # dimensionality reduction\n",
    "\n",
    "# Input layer\n",
    "input_layer = Input(shape=(input_dim,))\n",
    "f0 = Dense(encoding_dim, activation='linear')\n",
    "f0_tensor  = f0(input_layer)\n",
    "\n",
    "# Output layer\n",
    "f1 = DenseTranspose(f0, activation='linear')\n",
    "f1_tensor = f1(f0_tensor)\n",
    "\n",
    "# Model\n",
    "model = Model(inputs=input_layer, outputs=f1_tensor)"
   ]
  },
  {
   "cell_type": "code",
   "execution_count": 6,
   "id": "fddb4aa1",
   "metadata": {
    "execution": {
     "iopub.execute_input": "2024-02-27T14:35:25.125160Z",
     "iopub.status.busy": "2024-02-27T14:35:25.124669Z",
     "iopub.status.idle": "2024-02-27T14:35:48.197032Z",
     "shell.execute_reply": "2024-02-27T14:35:48.195828Z"
    },
    "papermill": {
     "duration": 23.081912,
     "end_time": "2024-02-27T14:35:48.199449",
     "exception": false,
     "start_time": "2024-02-27T14:35:25.117537",
     "status": "completed"
    },
    "tags": []
   },
   "outputs": [
    {
     "name": "stdout",
     "output_type": "stream",
     "text": [
      "Epoch 1/20\n",
      "196/196 [==============================] - 2s 7ms/step - loss: 0.1911 - val_loss: 0.1732\n",
      "Epoch 2/20\n",
      "196/196 [==============================] - 1s 6ms/step - loss: 0.1698 - val_loss: 0.1675\n",
      "Epoch 3/20\n",
      "196/196 [==============================] - 1s 6ms/step - loss: 0.1663 - val_loss: 0.1654\n",
      "Epoch 4/20\n",
      "196/196 [==============================] - 1s 5ms/step - loss: 0.1649 - val_loss: 0.1647\n",
      "Epoch 5/20\n",
      "196/196 [==============================] - 1s 5ms/step - loss: 0.1644 - val_loss: 0.1644\n",
      "Epoch 6/20\n",
      "196/196 [==============================] - 1s 5ms/step - loss: 0.1642 - val_loss: 0.1642\n",
      "Epoch 7/20\n",
      "196/196 [==============================] - 1s 5ms/step - loss: 0.1641 - val_loss: 0.1641\n",
      "Epoch 8/20\n",
      "196/196 [==============================] - 1s 5ms/step - loss: 0.1641 - val_loss: 0.1641\n",
      "Epoch 9/20\n",
      "196/196 [==============================] - 1s 5ms/step - loss: 0.1641 - val_loss: 0.1641\n",
      "Epoch 10/20\n",
      "196/196 [==============================] - 1s 5ms/step - loss: 0.1640 - val_loss: 0.1641\n",
      "Epoch 11/20\n",
      "196/196 [==============================] - 1s 6ms/step - loss: 0.1640 - val_loss: 0.1641\n",
      "Epoch 12/20\n",
      "196/196 [==============================] - 1s 6ms/step - loss: 0.1640 - val_loss: 0.1640\n",
      "Epoch 13/20\n",
      "196/196 [==============================] - 1s 6ms/step - loss: 0.1640 - val_loss: 0.1640\n",
      "Epoch 14/20\n",
      "196/196 [==============================] - 1s 5ms/step - loss: 0.1640 - val_loss: 0.1640\n",
      "Epoch 15/20\n",
      "196/196 [==============================] - 1s 5ms/step - loss: 0.1640 - val_loss: 0.1640\n",
      "Epoch 16/20\n",
      "196/196 [==============================] - 1s 5ms/step - loss: 0.1640 - val_loss: 0.1640\n",
      "Epoch 17/20\n",
      "196/196 [==============================] - 1s 5ms/step - loss: 0.1640 - val_loss: 0.1640\n",
      "Epoch 18/20\n",
      "196/196 [==============================] - 1s 5ms/step - loss: 0.1640 - val_loss: 0.1640\n",
      "Epoch 19/20\n",
      "196/196 [==============================] - 1s 6ms/step - loss: 0.1640 - val_loss: 0.1640\n",
      "Epoch 20/20\n",
      "196/196 [==============================] - 1s 6ms/step - loss: 0.1640 - val_loss: 0.1640\n"
     ]
    },
    {
     "data": {
      "text/plain": [
       "<keras.src.callbacks.History at 0x785882020670>"
      ]
     },
     "execution_count": 6,
     "metadata": {},
     "output_type": "execute_result"
    }
   ],
   "source": [
    "model.compile(optimizer='adam', loss='mean_squared_error')\n",
    "\n",
    "# datos_x serían tus datos de entrenamiento\n",
    "model.fit(x_train, x_train, epochs=20, batch_size=256, shuffle=True, validation_data=(x_val, x_val))"
   ]
  },
  {
   "cell_type": "markdown",
   "id": "6df38b25",
   "metadata": {
    "papermill": {
     "duration": 0.045537,
     "end_time": "2024-02-27T14:35:48.291060",
     "exception": false,
     "start_time": "2024-02-27T14:35:48.245523",
     "status": "completed"
    },
    "tags": []
   },
   "source": [
    "Now, I am interested in knowing how similar my input is to the newly reconstructed dataset."
   ]
  },
  {
   "cell_type": "code",
   "execution_count": 7,
   "id": "ed7bde2b",
   "metadata": {
    "execution": {
     "iopub.execute_input": "2024-02-27T14:35:48.380912Z",
     "iopub.status.busy": "2024-02-27T14:35:48.380462Z",
     "iopub.status.idle": "2024-02-27T14:35:54.383311Z",
     "shell.execute_reply": "2024-02-27T14:35:54.381708Z"
    },
    "papermill": {
     "duration": 6.051299,
     "end_time": "2024-02-27T14:35:54.386279",
     "exception": false,
     "start_time": "2024-02-27T14:35:48.334980",
     "status": "completed"
    },
    "tags": []
   },
   "outputs": [
    {
     "name": "stdout",
     "output_type": "stream",
     "text": [
      "1563/1563 [==============================] - 3s 2ms/step\n",
      "The mean square error between $X$ and $\\hat{X}$ is: 0.16366213471179453\n"
     ]
    }
   ],
   "source": [
    "x_pca = model.predict(x_train)\n",
    "mse = mean_squared_error(x_train, x_pca)\n",
    "print(r\"The mean square error between $X$ and $\\hat{X}$ is: %s\" % mse)"
   ]
  },
  {
   "cell_type": "markdown",
   "id": "fbde6402",
   "metadata": {
    "papermill": {
     "duration": 0.051191,
     "end_time": "2024-02-27T14:35:54.488389",
     "exception": false,
     "start_time": "2024-02-27T14:35:54.437198",
     "status": "completed"
    },
    "tags": []
   },
   "source": [
    "On the other hand, let's take a look at some elements of our input and their reconstructed form."
   ]
  },
  {
   "cell_type": "code",
   "execution_count": 8,
   "id": "e4002501",
   "metadata": {
    "execution": {
     "iopub.execute_input": "2024-02-27T14:35:54.590745Z",
     "iopub.status.busy": "2024-02-27T14:35:54.590213Z",
     "iopub.status.idle": "2024-02-27T14:35:54.600221Z",
     "shell.execute_reply": "2024-02-27T14:35:54.598772Z"
    },
    "papermill": {
     "duration": 0.064434,
     "end_time": "2024-02-27T14:35:54.602690",
     "exception": false,
     "start_time": "2024-02-27T14:35:54.538256",
     "status": "completed"
    },
    "tags": []
   },
   "outputs": [],
   "source": [
    "def plot_mnist_autoencoder(x, xpred, cmap='gray', vmin=0, vmax=1):\n",
    "  fig,ax = plt.subplots(2, x.shape[0], figsize=(8,1))\n",
    "  for i,class_ in enumerate(range(x.shape[0])):\n",
    "        ax[0,i].imshow(x[i].reshape(28, 28), cmap=cmap,vmin=vmin,vmax=vmax)\n",
    "        ax[0,i].set_xticks([])\n",
    "\n",
    "        ax[0,i].set_yticks([])\n",
    "\n",
    "        ax[1,i].imshow(xpred[i].reshape(28, 28),cmap=cmap,vmin=vmin,vmax=vmax)\n",
    "        ax[1,i].set_xticks([])\n",
    "        ax[1,i].set_yticks([])\n",
    "  plt.show()\n",
    "  return"
   ]
  },
  {
   "cell_type": "code",
   "execution_count": 9,
   "id": "19d4f21f",
   "metadata": {
    "execution": {
     "iopub.execute_input": "2024-02-27T14:35:54.704527Z",
     "iopub.status.busy": "2024-02-27T14:35:54.703965Z",
     "iopub.status.idle": "2024-02-27T14:35:55.999660Z",
     "shell.execute_reply": "2024-02-27T14:35:55.998783Z"
    },
    "papermill": {
     "duration": 1.34959,
     "end_time": "2024-02-27T14:35:56.001961",
     "exception": false,
     "start_time": "2024-02-27T14:35:54.652371",
     "status": "completed"
    },
    "tags": []
   },
   "outputs": [
    {
     "data": {
      "image/png": "[encoded data removed]",
      "text/plain": [
       "<Figure size 800x100 with 30 Axes>"
      ]
     },
     "metadata": {},
     "output_type": "display_data"
    }
   ],
   "source": [
    "plot_mnist_autoencoder(x_train[0:15],x_pca[0:15])"
   ]
  }
 ],
 "metadata": {
  "kaggle": {
   "accelerator": "none",
   "dataSources": [],
   "dockerImageVersionId": 30646,
   "isGpuEnabled": false,
   "isInternetEnabled": true,
   "language": "python",
   "sourceType": "notebook"
  },
  "kernelspec": {
   "display_name": "Python 3",
   "language": "python",
   "name": "python3"
  },
  "language_info": {
   "codemirror_mode": {
    "name": "ipython",
    "version": 3
   },
   "file_extension": ".py",
   "mimetype": "text/x-python",
   "name": "python",
   "nbconvert_exporter": "python",
   "pygments_lexer": "ipython3",
   "version": "3.10.13"
  },
  "papermill": {
   "default_parameters": {},
   "duration": 57.188393,
   "end_time": "2024-02-27T14:35:58.455581",
   "environment_variables": {},
   "exception": null,
   "input_path": "__notebook__.ipynb",
   "output_path": "__notebook__.ipynb",
   "parameters": {},
   "start_time": "2024-02-27T14:35:01.267188",
   "version": "2.5.0"
  }
 },
 "nbformat": 4,
 "nbformat_minor": 5
}
