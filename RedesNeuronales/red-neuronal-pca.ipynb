{
 "cells": [
  {
   "cell_type": "markdown",
   "id": "ae2f5675",
   "metadata": {
    "papermill": {
     "duration": 0.00186,
     "end_time": "2024-02-18T22:49:52.335889",
     "exception": false,
     "start_time": "2024-02-18T22:49:52.334029",
     "status": "completed"
    },
    "tags": []
   },
   "source": [
    "En este código se implementa una red neuronal para realizar una reducción de dimensionalidad similar al PCA (Análisis de Componentes Principales) y luego reconstruir los datos originales. \n",
    "\n",
    "**Inconveniente:** no me queda claro cómo imponer la restricción que los pesos de la segunda capa sean los mismos de la primera transpuestos $(w_1 = (w_0)^T)$"
   ]
  },
  {
   "cell_type": "code",
   "execution_count": 1,
   "id": "c6ef74e9",
   "metadata": {
    "execution": {
     "iopub.execute_input": "2024-02-18T22:49:52.341444Z",
     "iopub.status.busy": "2024-02-18T22:49:52.341100Z",
     "iopub.status.idle": "2024-02-18T22:50:27.755055Z",
     "shell.execute_reply": "2024-02-18T22:50:27.753779Z"
    },
    "papermill": {
     "duration": 35.418954,
     "end_time": "2024-02-18T22:50:27.757103",
     "exception": false,
     "start_time": "2024-02-18T22:49:52.338149",
     "status": "completed"
    },
    "tags": []
   },
   "outputs": [
    {
     "name": "stderr",
     "output_type": "stream",
     "text": [
      "2024-02-18 22:49:54.185077: E external/local_xla/xla/stream_executor/cuda/cuda_dnn.cc:9261] Unable to register cuDNN factory: Attempting to register factory for plugin cuDNN when one has already been registered\n",
      "2024-02-18 22:49:54.185193: E external/local_xla/xla/stream_executor/cuda/cuda_fft.cc:607] Unable to register cuFFT factory: Attempting to register factory for plugin cuFFT when one has already been registered\n",
      "2024-02-18 22:49:54.335630: E external/local_xla/xla/stream_executor/cuda/cuda_blas.cc:1515] Unable to register cuBLAS factory: Attempting to register factory for plugin cuBLAS when one has already been registered\n"
     ]
    },
    {
     "name": "stdout",
     "output_type": "stream",
     "text": [
      "Downloading data from https://storage.googleapis.com/tensorflow/tf-keras-datasets/mnist.npz\n",
      "11490434/11490434 [==============================] - 0s 0us/step\n",
      "Epoch 1/5\n",
      "1875/1875 [==============================] - 4s 2ms/step - loss: 1.0772e-06 - accuracy: 0.0067\n",
      "Epoch 2/5\n",
      "1875/1875 [==============================] - 3s 2ms/step - loss: 1.0595e-06 - accuracy: 0.0063\n",
      "Epoch 3/5\n",
      "1875/1875 [==============================] - 3s 2ms/step - loss: 1.0050e-06 - accuracy: 0.0068\n",
      "Epoch 4/5\n",
      "1875/1875 [==============================] - 3s 2ms/step - loss: 9.4225e-07 - accuracy: 0.0078\n",
      "Epoch 5/5\n",
      "1875/1875 [==============================] - 3s 2ms/step - loss: 9.1365e-07 - accuracy: 0.0091\n",
      "313/313 [==============================] - 1s 1ms/step - loss: 0.0940 - accuracy: 0.0038\n",
      "The mean squared error is: 0.09402266889810562\n"
     ]
    }
   ],
   "source": [
    "import tensorflow as tf\n",
    "import numpy as np\n",
    "\n",
    "# Cargar los datos de MNIST\n",
    "mnist = tf.keras.datasets.mnist\n",
    "(x_train, _), (x_test, _) = mnist.load_data()\n",
    "x_train = x_train.reshape(-1, 28*28) / 255.0\n",
    "x_test = x_test.reshape(-1, 28*28) / 255.0\n",
    "\n",
    "# Normalizar los datos de entrada (escalándolos al rango [0, 1])\n",
    "x_train = x_train / 255.0\n",
    "\n",
    "# Definir la arquitectura de la red neuronal\n",
    "model = tf.keras.Sequential([\n",
    "    tf.keras.layers.Dense(2, input_shape=(28*28,)),\n",
    "    tf.keras.layers.Dense(28*28) \n",
    "])\n",
    "\n",
    "# Compilar el modelo\n",
    "model.compile(optimizer='adam',\n",
    "              loss='mean_squared_error',\n",
    "              metrics=['accuracy'])\n",
    "\n",
    "# Entrenar el modelo\n",
    "model.fit(x_train, x_train, epochs=5)\n",
    "\n",
    "# Evaluación del modelo\n",
    "loss = model.evaluate(x_test, x_test)\n",
    "print(\"The mean squared error is:\", loss[0])"
   ]
  }
 ],
 "metadata": {
  "kaggle": {
   "accelerator": "none",
   "dataSources": [],
   "dockerImageVersionId": 30646,
   "isGpuEnabled": false,
   "isInternetEnabled": true,
   "language": "python",
   "sourceType": "notebook"
  },
  "kernelspec": {
   "display_name": "Python 3",
   "language": "python",
   "name": "python3"
  },
  "language_info": {
   "codemirror_mode": {
    "name": "ipython",
    "version": 3
   },
   "file_extension": ".py",
   "mimetype": "text/x-python",
   "name": "python",
   "nbconvert_exporter": "python",
   "pygments_lexer": "ipython3",
   "version": "3.10.13"
  },
  "papermill": {
   "default_parameters": {},
   "duration": 39.262679,
   "end_time": "2024-02-18T22:50:29.304132",
   "environment_variables": {},
   "exception": null,
   "input_path": "__notebook__.ipynb",
   "output_path": "__notebook__.ipynb",
   "parameters": {},
   "start_time": "2024-02-18T22:49:50.041453",
   "version": "2.5.0"
  }
 },
 "nbformat": 4,
 "nbformat_minor": 5
}
